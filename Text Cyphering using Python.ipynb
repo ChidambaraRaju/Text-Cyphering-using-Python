{
 "cells": [
  {
   "cell_type": "markdown",
   "id": "b4fd5692",
   "metadata": {},
   "source": [
    "## Text Ciphering"
   ]
  },
  {
   "cell_type": "code",
   "execution_count": 1,
   "id": "6722c58b",
   "metadata": {},
   "outputs": [],
   "source": [
    "def cipher(ch):\n",
    "    return chr(ord(ch) + 1)"
   ]
  },
  {
   "cell_type": "code",
   "execution_count": 2,
   "id": "ad1966c2",
   "metadata": {},
   "outputs": [
    {
     "name": "stdout",
     "output_type": "stream",
     "text": [
      "Ifmmp-!Ipx!bsf!zpv!epjoh@\n"
     ]
    }
   ],
   "source": [
    "enc = ''\n",
    "\n",
    "for i in 'Hello, How are you doing?':\n",
    "    ch = cipher(i)\n",
    "    enc += ch\n",
    "    \n",
    "print(enc)\n",
    "# cipher('h')"
   ]
  },
  {
   "cell_type": "markdown",
   "id": "71ee256e",
   "metadata": {},
   "source": [
    "## Text Deciphering"
   ]
  },
  {
   "cell_type": "code",
   "execution_count": 3,
   "id": "8ebd3e6d",
   "metadata": {},
   "outputs": [
    {
     "name": "stdout",
     "output_type": "stream",
     "text": [
      "Hello, How are you doing?\n"
     ]
    }
   ],
   "source": [
    "def decipher(ch):\n",
    "    return chr(ord(ch) - 1)\n",
    "\n",
    "dec = ''\n",
    "\n",
    "for i in enc:\n",
    "    dec += decipher(i)\n",
    "    \n",
    "print(dec)"
   ]
  },
  {
   "cell_type": "markdown",
   "id": "4d92069c",
   "metadata": {},
   "source": [
    "## Text Cipher to n-places"
   ]
  },
  {
   "cell_type": "code",
   "execution_count": 4,
   "id": "9acbdb0e",
   "metadata": {},
   "outputs": [
    {
     "name": "stdout",
     "output_type": "stream",
     "text": [
      "enter the message: Hi! it's good to meet you\n",
      "enter the key: 20\n",
      "\\}54};4{x44yy4\n"
     ]
    }
   ],
   "source": [
    "msg = str(input(\"enter the message: \"))\n",
    "key = int(input('enter the key: '))\n",
    "\n",
    "def cipher(ch,key):\n",
    "    return chr(ord(ch) + key)\n",
    "\n",
    "enc = ''\n",
    "\n",
    "for i in msg:\n",
    "    ch = cipher(i,key)\n",
    "    enc += ch\n",
    "    \n",
    "print(enc)\n",
    "# cipher('h')"
   ]
  },
  {
   "cell_type": "code",
   "execution_count": 5,
   "id": "5a0827ed",
   "metadata": {},
   "outputs": [
    {
     "name": "stdout",
     "output_type": "stream",
     "text": [
      "Hi! it's good to meet you\n"
     ]
    }
   ],
   "source": [
    "def decipher(ch,key):\n",
    "    return chr(ord(ch) - key)\n",
    "\n",
    "dec = ''\n",
    "\n",
    "for i in enc:\n",
    "    dec += decipher(i,key)\n",
    "    \n",
    "print(dec)"
   ]
  },
  {
   "cell_type": "markdown",
   "id": "cde9fb1c",
   "metadata": {},
   "source": [
    "## Text Cipher with Key-Division"
   ]
  },
  {
   "cell_type": "code",
   "execution_count": 9,
   "id": "63d862a7",
   "metadata": {},
   "outputs": [
    {
     "name": "stdout",
     "output_type": "stream",
     "text": [
      "enter the message: It was a good dinner. Let's connect some other day, probably 9 PM tomorrow ?\n",
      "enter the key: 25\n",
      "b9z9z9}9}~G9e~@9|~|9~9~9}zE9{z{",
      "9R9if99X\n"
     ]
    }
   ],
   "source": [
    "msg = str(input(\"enter the message: \"))\n",
    "key = int(input('enter the key: '))\n",
    "\n",
    "def cipher(ch,key):\n",
    "    key = key%65\n",
    "    return chr(ord(ch) + key)\n",
    "\n",
    "enc = ''\n",
    "for i in msg:\n",
    "    ch = cipher(i,key)\n",
    "    enc += ch\n",
    "    \n",
    "print(enc)"
   ]
  },
  {
   "cell_type": "code",
   "execution_count": 10,
   "id": "3e72226d",
   "metadata": {},
   "outputs": [
    {
     "name": "stdout",
     "output_type": "stream",
     "text": [
      "It was a good dinner. Let's connect some other day, probably 9 PM tomorrow ?\n"
     ]
    }
   ],
   "source": [
    "def decipher(ch,key):\n",
    "    key = key % 65\n",
    "    return chr(ord(ch) - key)\n",
    "\n",
    "dec = ''\n",
    "\n",
    "for i in enc:\n",
    "    dec += decipher(i,key)\n",
    "    \n",
    "print(dec)"
   ]
  },
  {
   "cell_type": "markdown",
   "id": "239b1607",
   "metadata": {},
   "source": [
    "## Cracking Algorithm (Brute-Force)"
   ]
  },
  {
   "cell_type": "code",
   "execution_count": 11,
   "id": "336ffc62",
   "metadata": {},
   "outputs": [
    {
     "name": "stdout",
     "output_type": "stream",
     "text": [
      "£ÎzÑ»Íz»zÁÉÉ¾z¾ÃÈÈ¿Ìz¦¿ÎÍz½ÉÈÈ¿½ÎzÍÉÇ¿zÉÎÂ¿Ìz¾»ÓzÊÌÉ¼»¼ÆÓzzª§zÎÉÇÉÌÌÉÑz\n",
      "¢ÍyÐºÌyºyÀÈÈ½y½ÂÇÇ¾Ëy¥¾ÍÌy¼ÈÇÇ¾¼ÍyÌÈÆ¾yÈÍÁ¾Ëy½ºÒ",
      "yÉËÈ»º»ÅÒyy©¦yÍÈÆÈËËÈÐy\n",
      "¡ÌxÏ¹Ëx¹x¿ÇÇ¼x¼ÁÆÆ½Êx¤½ÌËx»ÇÆÆ½»ÌxËÇÅ½xÇÌÀ½Êx¼¹ÑxÈÊÇº¹ºÄÑxx¨¥xÌÇÅÇÊÊÇÏx\n",
      " ËwÎ¸Êw¸w¾ÆÆ»w»ÀÅÅ¼É",
      "w£¼Ë~ÊwºÆÅÅ¼ºËwÊÆÄ¼wÆË¿¼Éw»¸ÐwÇÉÆ¹¸¹ÃÐww§¤wËÆÄÆÉÉÆÎw\n",
      "ÊvÍ·Év·v½ÅÅºvº¿ÄÄ»Èv¢»Ê}Év¹ÅÄÄ»¹ÊvÉÅÃ»vÅÊ¾»Èvº·ÏvÆÈÅ¸·¸ÂÏvv¦£vÊÅÃÅÈÈÅÍv\n",
      "ÉuÌ¶Èu¶u¼ÄÄ¹u¹¾ÃÃºÇu¡ºÉ|Èu¸ÄÃÃº¸ÉuÈÄÂºuÄÉ½ºÇu¹¶ÎuÅÇÄ·¶·ÁÎuu¥¢uÉÄÂÄÇÇÄÌu\n",
      "ÈtËµÇtµt»ÃÃ¸t¸½ÂÂ¹Æt ¹È{Çt·ÃÂÂ¹·ÈtÇÃÁ¹tÃÈ¼¹Æt¸µÍtÄÆÃ¶µ¶ÀÍtt¤¡tÈÃÁÃÆÆÃËt\n",
      "ÇsÊ´Æs´sºÂÂ·s·¼ÁÁ¸Ås¸ÇzÆs¶ÂÁÁ¸¶ÇsÆÂÀ¸sÂÇ»¸Ås·´ÌsÃÅÂµ´µ¿Ìss£ sÇÂÀÂÅÅÂÊs\n",
      "ÆrÉ³År³r¹ÁÁ¶r¶»ÀÀ·Är·ÆyÅrµÁÀÀ·µÆrÅÁ¿·rÁÆº·Är¶³Ë~rÂÄÁ´³´¾Ërr¢rÆÁ¿ÁÄÄÁÉr\n",
      "ÅqÈ²Äq²q¸ÀÀµqµº¿¿¶Ãq¶ÅxÄq´À¿¿¶´ÅqÄÀ¾¶qÀÅ¹¶Ãqµ²Ê}qÁÃÀ³²³½Êqq¡qÅÀ¾ÀÃÃÀÈq\n",
      "ÄpÇ±Ãp±p·¿¿´p´¹¾¾µÂ~pµÄwÃp³¿¾¾µ³ÄpÃ¿½µp¿Ä¸µÂp´±É|pÀÂ¿²±²¼Épp pÄ¿½¿ÂÂ¿Çp\n",
      "ÃoÆ°Âo°o¶¾¾³o³¸½½´Á}o´ÃvÂo²¾½½´²ÃoÂ¾¼´o¾Ã·´Áo³°È{o¿Á¾±°±»ÈoooÃ¾¼¾ÁÁ¾Æo\n",
      "ÂnÅ¯Án¯nµ½½²n²·¼¼³À|n³ÂuÁn±½¼¼³±ÂnÁ½»³n½Â¶³Àn²¯Çzn¾À½°¯°ºÇnnnÂ½»½ÀÀ½Ån\n",
      "ÁmÄ®Àm®m´¼¼±m±¶»»²¿{m²ÁtÀm°¼»»²°ÁmÀ¼º²m¼Áµ²¿m±®Æym½¿¼¯®¯¹ÆmmmÁ¼º¼¿¿¼Äm\n",
      "ÀlÃ­¿l­l³»»°l°µºº±¾zl±Às¿l¯»ºº±¯Àl¿»¹±l»À´±¾l°­Åxl¼¾»®­®¸Ål",
      "llÀ»¹»¾¾»Ãl\n",
      "¿kÂ¬¾k¬k²ºº¯k¯´¹¹°½yk°¿r¾k®º¹¹°®¿k¾º¸°kº¿³°½k¯¬Äwk»½º­¬­·Äkkk¿º¸º½½ºÂk\n",
      "¾jÁ«½j«j±¹¹®j®³¸¸¯¼xj¯¾q½j­¹¸¸¯­¾j½¹·¯j¹¾²¯¼j®«Ãvjº¼¹¬«¬¶Ãjjj¾¹·¹¼¼¹Áj\n",
      "½iÀª¼iªi°¸¸­i­²··®»wi®½p¼i¬¸··®¬½i¼¸¶®i¸½±®»i­ªÂui¹»¸«ª«µÂiii½¸¶¸»»¸Ài\n",
      "¼h¿©»h©h¯··¬h¬±¶¶­ºvh­¼o»h«·¶¶­«¼h»·µ­h·¼°­ºh¬©Áth¸º·ª©ª´Áhhh¼·µ·ºº·¿h\n",
      "»g¾¨ºg¨g®¶¶«g«°µµ¬¹ug¬»nºgª¶µµ¬ª»gº¶´¬g¶»¯¬¹g«¨Àsg·¹¶©¨©³Àggg»¶´¶¹¹¶¾g\n",
      "ºf½§¹f§f­µµªfª¯´´«¸tf«ºm¹f©µ´´«©ºf¹µ³«fµº®«¸fª§¿rf¶¸µ¨§¨²¿fffºµ³µ¸¸µ½f",
      "\n",
      "¹e¼¦¸e¦e¬´´©e©®³³ª·seª¹l¸e¨´³³ª¨¹e¸´²ªe´¹­ª·e©¦¾qeµ·´§¦§±¾e~ee¹´²´··´¼e\n",
      "¸d»¥·d¥d«³³¨d¨­²²©¶rd©¸k·d§³²²©§¸d·³±©d³¸¬©¶d¨¥½pd´¶³¦¥¦°½d}dd¸³±³¶¶³»d\n",
      "·cº¤¶c¤cª²²§c§¬±±¨µqc¨·j¶c¦²±±¨¦·c¶²°¨c²·«¨µc§¤¼oc³µ²¥¤¥¯¼c|cc·²°²µµ²ºc\n",
      "¶b¹£µb£b©±±¦b¦«°°§´pb§¶iµb¥±°°§¥¶bµ±¯§b±¶ª§´b¦£»nb²´±¤£¤®»b{bb¶±¯±´´±¹b\n",
      "µa¸¢´a¢a¨°°¥a¥ª¯¯¦³oa¦µh´a¤°¯¯¦¤µa´°®¦a°µ©¦³a¥¢ºma±³°£¢£­ºazaaµ°®°³³°¸a\n",
      "´`·¡³`¡`§¯¯¤`¤©®®¥²n`¥´g³`£¯®®¥£´`³¯­¥`¯´¨¥²`¤¡¹l`°²¯¢¡¢¬¹`y``´¯­¯²²¯·`\n",
      "³_¶ ²_ _¦®®£_£¨­­¤±m_¤³f²_¢®­­¤¢³_²®¬¤_®³§¤±_£ ¸k_¯±®¡ ¡«¸_x__³®¬®±±®¶_~\n",
      "²^µ±^^¥­­¢^¢§¬¬£°l^£²e±^¡­¬¬£¡²^±­«£^­²¦£°^¢·j^®°­  ª·^w^^²­«­°°­µ^}\n",
      "±]´°]]¤¬¬¡]¡¦««¢¯k]¢±d°] ¬««¢ ±]°¬ª¢]¬±¥¢¯]¡¶i]­¯¬©¶]v]]±¬ª¬¯¯¬´]|\n",
      "",
      "°\\³¯\\\\£«« \\ ¥ªª¡®j\\¡°c¯\\«ªª¡°\\¯«©¡\\«°¤¡®\\ µh\\¬®«¨µ\\u\\\\°«©«®®«³\\{\n",
      "¯[²®[[¢ªª[¤©© ­i[ ¯b®[ª©© ¯[®ª¨ [ª¯£ ­[´g[«­ª§´[t[[¯ª¨ª­­ª²[z\n",
      "®Z±­ZZ¡©©Z£¨¨¬hZ®a­Z©¨¨®Z­©§Z©®¢¬Z³fZª¬©¦³ZsZZ®©§©¬¬©±Zy\n",
      "­Y°¬YY ¨¨Y¢§§«gY",
      "­`¬Y¨§§­Y¬¨¦Y¨­¡«Y²eY©«¨¥²YrYY­¨¦¨««¨°Yx\n",
      "¬X¯«XX§§X¡¦¦ªfX¬_«X§¦¦¬X«§¥X§¬ ªX±dX¨ª§¤±XqX",
      "X¬§¥§ªª§¯Xw\n",
      "«W®ªWW¦¦W ¥¥©eW«^ªW¦¥¥«Wª¦¤W¦«©W°cW§©¦£°WpWW«¦¤¦©©¦®Wv\n",
      "ªV­©VV¥¥V¤¤¨dVª]©V¥¤¤ªV©¥£V¥ª¨V¯bV¦¨¥¢¯VoVVª¥£¥¨¨¥­Vu\n",
      "~©U¬¨UU¤¤U££§cU©\\¨U¤££©U¨¤¢U¤©§U®aU¥§¤¡®UnU",
      "U©¤¢¤§§¤¬Ut\n",
      "}¨T«§TT££T¢¢¦bT¨[§T£¢¢¨T§£¡T£¨¦T­`T¤¦£ ­TmTT¨£¡£¦¦£«Ts\n",
      "|§Sª¦SS¢¢S¡¡¥aS§Z¦S¢¡¡§S¦¢ S¢§¥S¬_S£¥¢¬SlSS§¢ ¢¥¥¢ªSr\n",
      "{¦R©¥RR¡¡R  ¤`R~¦Y¥R¡  ¦R¥¡R¡¦¤R«^R¢¤¡«RkRR¦¡¡¤¤¡©Rq\n",
      "z¥Q¨¤QQ  Q£_Q}¥X¤Q ¥Q¤ Q ¥£Qª]Q¡£ ªQjQ~Q¥  ££ ¨Qp\n",
      "y¤P§£PPP¢^P|¤W£P¤P£P¤¢P©\\P ¢©PiP}P¤¢¢§Po\n",
      "x£O¦¢OOO¡]O{£V¢O£O¢O£¡O¨[O¡¨OhO|O£¡¡¦On\n",
      "w¢N¥¡NNN \\Nz¢U¡N¢N¡N¢ N§ZN §NgN~{N¢  ¥Nm\n",
      "v¡M¤ MMM[My¡T M¡M M¡M¦YM¦MfM}zM¡¤Ml\n",
      "u L£LLLZLx SL LL L¥XL¥LeL|yL £Lk\n",
      "tK¢KKKYKwRKKKK¤WK¤KdK{xK¢Kj\n",
      "sJ¡JJJXJvQJJJJ£VJ£JcJzwJ¡Ji\n",
      "rI IIIWIuPIIII¢UI¢IbIyvI Ih\n",
      "qHHHHVHtOHHHH¡TH¡HaHxuHHg\n",
      "pGGGGUGsNGGGG SG G`GwtGGf\n",
      "oFFFFTFrMFFFFRFF_FvsFFe\n",
      "nEEEESEqLEEEEQEE^EurEEd\n",
      "mD",
      "D",
      "DDRDpKDDDD",
      "PD",
      "D]DtqDDc\n",
      "lCCCCQCoJCCCCOC",
      "",
      "C\\CspCCb\n",
      "kBBBBPBnIB",
      "",
      "BBBNBB[BroBBa\n",
      "jAAA",
      "A",
      "OAmHAAAA",
      "MAAZAqnAA`\n",
      "i@@@@",
      "N@l",
      "G@",
      "@",
      "@",
      "@L@@Y@pm@@_\n",
      "h????M?kF????K??X?ol??^\n",
      "g>>>",
      ">L>jE>>>>J>>W>nk>>]\n",
      "f=~=~==K=iD===",
      "=~I=~=V=mj==\\\n",
      "e<}<}<<",
      "J<hC<<<<}H<~}~<U<li<<[\n",
      "d;|;|;;I;gB;~~;;;|G;}|};T;kh;;Z\n",
      "c:{:{:~:~H:fA:}}:::~{F:|{|:S:jg::Y\n",
      "b9z9z9}9}~G9e~@9|~|9~9~9}zE9{z{",
      "9R9if99X\n",
      "a8y8y8|8|}F8d}?8{}{8",
      "}8}8|yD8zyz8Q8he8",
      "8W\n",
      "`7x7x7~{7{",
      "",
      "|E7c|>7z",
      "",
      "|z7|7|7{xC7yxy7P7gd77V\n",
      "_6w6w6}",
      "",
      "z6z{D6b{=6y",
      "{y6",
      "{6",
      "~{6zwB6",
      "xwx6O6fc6",
      "",
      "",
      "6U\n",
      "^5v5v5|y5y~zC5az<5xzx5z5}z5yvA5",
      "wvw5N5eb55T\n",
      "]4u4u4{x4x}yB4`y;4wyw4y4|y4xu@4vuv4M4da44S\n",
      "\\3t3t3zw3w|x",
      "A3_x:3vxv3x3{x",
      "3wt?3",
      "utu3L3c`3",
      "",
      "3R\n",
      "[2s",
      "2s2yv2v{w@2^w9",
      "2uwu2",
      "w2zw2vs>2tst~2K2b_22Q\n",
      "Z",
      "1r1r1xu1uzv?1]v",
      "81tvt",
      "1~v1",
      "yv1ur=1srs}1J1a^1",
      "~1P\n",
      "Y0q0q0wt0ty~~u>0\\u70s~~us0}u0xu0tq<0rqr|0I0`]0}0O\n",
      "X/p/p/v~~s/sx}}t=/[t6/r~}}tr/~|t/~wt/sp;/~qpq{/H/_\\/~|~~/N\n",
      "W.",
      "o.o.u}}r.rw||s<.Zs5.q}||sq.}{s.}vs.ro:.~}popz.G.^[.}{}}",
      ".M\n",
      "V-n-n-t||q-qv{{r;-Yr4-p|{{rp-|zr-|ur-qn9-}|onoy-F-]Z-|z||-L\n",
      "U,m,m,s{{p,puzzq~:,Xq3,o{zzqo,{yq,{tq~,pm",
      "8,|~{nmnx",
      ",E,\\Y,{y{~~{,K\n",
      "T+l~+l+rzzo+otyyp}9+Wp2~+nzyypn+~zxp+zsp}+ol7+{}zmlmw+D+[X+zxz}}z+J\n",
      "S~*k}*k*qyyn*nsxxo|8*Vo~1}*myxxom~*}ywo*y~ro|*nk6*z|ylklv*C*ZW*~ywy||y*I\n",
      "R})j|)j)pxxm)mrwwn{7)Un}0|)lxwwnl})|xvn)x}qn{)mj5)y{xkjku)B)YV)}xvx{{x)H\n",
      "Q|(i{(i(owwl(lqvvmz6(Tm|/{(kwvvmk|({wum(w|pmz(li4(xzwjijt(A(XU(|wuwzzw(G\n",
      "P{'~hz'h'nvvk'kpuuly5'Sl{.z'jvuulj{'zvtl'v{oly'kh3'wyvihis'@'WT'{vtvyyv~'F\n",
      "Oz&}gy&g&muuj&jottkx4&Rkz-y&iuttkiz&yusk&uznkx&jg2&vxuhghr&?&VS&zusuxxu}&E\n",
      "Ny%|fx%f%ltti%inssjw3%Qjy,x%htssjhy%xtrj%tymjw%if~1%uwtgfgq~%>%UR%ytrtwwt|%D\n",
      "Mx${ew$e$kssh$hmrriv2$Pix+w$gsrrigx$wsqi$sxliv$he}0$tvsfefp}$=$TQ$xsqsvvs{$C\n",
      "Lw#zdv#d#jrrg#glqqhu1#Ohw*v#frqqhfw#vrph#rwkhu#gd|/#suredeo|#<#SP#wrpruurz#B\n",
      "Kv\"ycu\"c\"iqqf\"fkppgt0\"Ngv)u\"eqppgev\"uqog\"qvjgt\"fc{.\"rtqdcdn{\";\"RO\"vqoqttqy\"A\n",
      "Ju!xbt!b!hppe!ejoofs/!Mfu(t!dpoofdu!tpnf!puifs!ebz-!qspcbcmz!:!QN!upnpsspx!@\n",
      "It was a good dinner. Let's connect some other day, probably 9 PM tomorrow ?\n",
      "Hs\u001fv`r\u001f`\u001ffnnc\u001fchmmdq-\u001fKds&r\u001fbnmmdbs\u001frnld\u001fnsgdq\u001fc`x+\u001foqna`akx\u001f8\u001fOL\u001fsnlnqqnv\u001f>\n",
      "Gr\u001e",
      "u_q\u001e",
      "_\u001e",
      "emmb\u001e",
      "bgllcp,\u001e",
      "Jcr%q\u001e",
      "amllcar\u001e",
      "qmkc\u001e",
      "mrfcp\u001e",
      "b_w*\u001e",
      "npm`_`jw\u001e",
      "7\u001e",
      "NK\u001e",
      "rmkmppmu\u001e",
      "=\n",
      "Fq\u001d",
      "t^p\u001d",
      "^\u001d",
      "dlla\u001d",
      "afkkbo+\u001d",
      "Ibq$p\u001d",
      "`lkkb`q\u001d",
      "pljb\u001d",
      "lqebo\u001d",
      "a^v)\u001d",
      "mol_^_iv\u001d",
      "6\u001d",
      "MJ\u001d",
      "qljloolt\u001d",
      "<\n",
      "Ep\u001c",
      "s]o\u001c",
      "]\u001c",
      "ckk`\u001c",
      "`ejjan*\u001c",
      "Hap#o\u001c",
      "_kjja_p\u001c",
      "okia\u001c",
      "kpdan\u001c",
      "`]u(\u001c",
      "lnk^]^hu\u001c",
      "5\u001c",
      "LI\u001c",
      "pkiknnks\u001c",
      ";\n",
      "Do\u001br\\n\u001b\\\u001bbjj_\u001b_dii`m)\u001bG`o\"n\u001b^jii`^o\u001bnjh`\u001bjoc`m\u001b_\\t'\u001bkmj]\\]gt\u001b4\u001bKH\u001bojhjmmjr\u001b:\n",
      "Cn\u001aq[m\u001a[\u001aaii^\u001a^chh_l(\u001aF_n!m\u001a]ihh_]n\u001amig_\u001ainb_l\u001a^[s&\u001ajli\\[\\fs\u001a3\u001aJG\u001anigilliq\u001a9\n",
      "Bm\u0019pZl\u0019Z\u0019`hh]\u0019]bgg^k'\u0019E^m l\u0019\\hgg^\\m\u0019lhf^\u0019hma^k\u0019]Zr%\u0019ikh[Z[er\u00192\u0019IF\u0019mhfhkkhp\u00198\n",
      "Al\u0018oYk\u0018Y\u0018_gg\\\u0018\\aff]j&\u0018D]l\u001fk\u0018[gff][l\u0018kge]\u0018gl`]j\u0018\\Yq$\u0018hjgZYZdq\u00181\u0018HE\u0018lgegjjgo\u00187\n",
      "@k\u0017nXj\u0017X\u0017^ff[\u0017[`ee\\i%\u0017C\\k\u001e",
      "j\u0017Zfee\\Zk\u0017jfd\\\u0017fk_\\i\u0017[Xp#\u0017gifYXYcp\u00170\u0017GD\u0017kfdfiifn\u00176\n",
      "?j\u0016mWi\u0016W\u0016]eeZ\u0016Z_dd[h$\u0016B[j\u001d",
      "i\u0016Yedd[Yj\u0016iec[\u0016ej^[h\u0016ZWo\"\u0016fheXWXbo\u0016/\u0016FC\u0016jecehhem\u00165\n",
      ">i\u0015lVh\u0015V\u0015\\ddY\u0015Y^ccZg#\u0015AZi\u001c",
      "h\u0015XdccZXi\u0015hdbZ\u0015di]Zg\u0015YVn!\u0015egdWVWan\u0015.\u0015EB\u0015idbdggdl\u00154\n",
      "=h\u0014kUg\u0014U\u0014[ccX\u0014X]bbYf\"\u0014@Yh\u001bg\u0014WcbbYWh\u0014gcaY\u0014ch\\Yf\u0014XUm \u0014dfcVUV`m\u0014-\u0014DA\u0014hcacffck\u00143\n",
      "<g\u0013jTf\u0013T\u0013ZbbW\u0013W\\aaXe!\u0013?Xg\u001af\u0013VbaaXVg\u0013fb`X\u0013bg[Xe\u0013WTl\u001f\u0013cebUTU_l\u0013,\u0013C@\u0013gb`beebj\u00132\n",
      ";f\u0012iSe\u0012S\u0012YaaV\u0012V[``Wd \u0012>Wf\u0019e\u0012Ua``WUf\u0012ea_W\u0012afZWd\u0012VSk\u001e",
      "\u0012bdaTST^k\u0012+\u0012B?\u0012fa_addai\u00121\n",
      ":e\u0011hRd\u0011R\u0011X``U\u0011UZ__Vc\u001f\u0011=Ve\u0018d\u0011T`__VTe\u0011d`^V\u0011`eYVc\u0011URj\u001d",
      "\u0011ac`SRS]j\u0011*\u0011A>\u0011e`^`cc`h\u00110\n",
      "9d\u0010gQc\u0010Q\u0010W__T\u0010TY^^Ub\u001e",
      "\u0010<Ud\u0017c\u0010S_^^USd\u0010c_]U\u0010_dXUb\u0010TQi\u001c",
      "\u0010`b_RQR\\i\u0010)\u0010@=\u0010d_]_bb_g\u0010/\n",
      "8c\u000ffPb\u000fP\u000fV^^S\u000fSX]]Ta\u001d",
      "\u000f;Tc\u0016b\u000fR^]]TRc\u000fb^\\T\u000f^cWTa\u000fSPh\u001b\u000f_a^QPQ[h\u000f(\u000f?<\u000fc^\\^aa^f\u000f.\n",
      "7b\u000eeOa\u000eO\u000eU]]R\u000eRW\\\\S`\u001c",
      "\u000e:Sb\u0015a\u000eQ]\\\\SQb\u000ea][S\u000e]bVS`\u000eROg\u001a\u000e^`]POPZg\u000e'\u000e>;\u000eb][]``]e\u000e-\n",
      "6a\r",
      "dN`\r",
      "N\r",
      "T\\\\Q\r",
      "QV[[R_\u001b\r",
      "9Ra\u0014`\r",
      "P\\[[RPa\r",
      "`\\ZR\r",
      "\\aUR_\r",
      "QNf\u0019\r",
      "]_\\ONOYf\r",
      "&\r",
      "=:\r",
      "a\\Z\\__\\d\r",
      ",\n",
      "5`\f",
      "cM_\f",
      "M\f",
      "S[[P\f",
      "PUZZQ^\u001a\f",
      "8Q`\u0013_\f",
      "O[ZZQO`\f",
      "_[YQ\f",
      "[`TQ^\f",
      "PMe\u0018\f",
      "\\^[NMNXe\f",
      "%\f",
      "<9\f",
      "`[Y[^^[c\f",
      "+\n",
      "4_\u000b",
      "bL^\u000b",
      "L\u000b",
      "RZZO\u000b",
      "OTYYP]\u0019\u000b",
      "7P_\u0012^\u000b",
      "NZYYPN_\u000b",
      "^ZXP\u000b",
      "Z_SP]\u000b",
      "OLd\u0017\u000b",
      "[]ZMLMWd\u000b",
      "$\u000b",
      ";8\u000b",
      "_ZXZ]]Zb\u000b",
      "*\n",
      "3^\n",
      "aK]\n",
      "K\n",
      "QYYN\n",
      "NSXXO\\\u0018\n",
      "6O^\u0011]\n",
      "MYXXOM^\n",
      "]YWO\n",
      "Y^RO\\\n",
      "NKc\u0016\n",
      "Z\\YLKLVc\n",
      "#\n",
      ":7\n",
      "^YWY\\\\Ya\n",
      ")\n",
      "2]\t`J\\\tJ\tPXXM\tMRWWN[\u0017\t5N]\u0010\\\tLXWWNL]\t\\XVN\tX]QN[\tMJb\u0015\tY[XKJKUb\t\"\t96\t]XVX[[X`\t(\n",
      "1\\\b_I[\bI\bOWWL\bLQVVMZ\u0016\b4M\\\u000f[\bKWVVMK\\\b[WUM\bW\\PMZ\bLIa\u0014\bXZWJIJTa\b!\b85\b\\WUWZZW_\b'\n",
      "0[\u0007^HZ\u0007H\u0007NVVK\u0007KPUULY\u0015\u00073L[\u000eZ\u0007JVUULJ[\u0007ZVTL\u0007V[OLY\u0007KH`\u0013\u0007WYVIHIS`\u0007 \u000774\u0007[VTVYYV^\u0007&\n",
      "/Z\u0006]GY\u0006G\u0006MUUJ\u0006JOTTKX\u0014\u00062KZ\r",
      "Y\u0006IUTTKIZ\u0006YUSK\u0006UZNKX\u0006JG_\u0012\u0006VXUHGHR_\u0006\u001f\u000663\u0006ZUSUXXU]\u0006%\n",
      ".Y\u0005\\FX\u0005F\u0005LTTI\u0005INSSJW\u0013\u00051JY\f",
      "X\u0005HTSSJHY\u0005XTRJ\u0005TYMJW\u0005IF^\u0011\u0005UWTGFGQ^\u0005\u001e",
      "\u000552\u0005YTRTWWT\\\u0005$\n",
      "-X\u0004[EW\u0004E\u0004KSSH\u0004HMRRIV\u0012\u00040IX\u000b",
      "W\u0004GSRRIGX\u0004WSQI\u0004SXLIV\u0004HE]\u0010\u0004TVSFEFP]\u0004\u001d",
      "\u000441\u0004XSQSVVS[\u0004#\n",
      ",W\u0003ZDV\u0003D\u0003JRRG\u0003GLQQHU\u0011\u0003/HW\n",
      "V\u0003FRQQHFW\u0003VRPH\u0003RWKHU\u0003GD\\\u000f\u0003SUREDEO\\\u0003\u001c",
      "\u000330\u0003WRPRUURZ\u0003\"\n",
      "+V\u0002YCU\u0002C\u0002IQQF\u0002FKPPGT\u0010\u0002.GV\tU\u0002EQPPGEV\u0002UQOG\u0002QVJGT\u0002FC[\u000e\u0002RTQDCDN[\u0002\u001b\u00022/\u0002VQOQTTQY\u0002!\n",
      "*U\u0001XBT\u0001B\u0001HPPE\u0001EJOOFS\u000f\u0001-FU\bT\u0001DPOOFDU\u0001TPNF\u0001PUIFS\u0001EBZ\r",
      "\u0001QSPCBCMZ\u0001\u001a\u00011.\u0001UPNPSSPX\u0001 \n",
      ")T\u0000WAS\u0000A\u0000GOOD\u0000DINNER\u000e\u0000,ET\u0007S\u0000CONNECT\u0000SOME\u0000OTHER\u0000DAY\f",
      "\u0000PROBABLY\u0000\u0019\u00000-\u0000TOMORROW\u0000\u001f\n"
     ]
    },
    {
     "ename": "ValueError",
     "evalue": "chr() arg not in range(0x110000)",
     "output_type": "error",
     "traceback": [
      "\u001b[1;31m---------------------------------------------------------------------------\u001b[0m",
      "\u001b[1;31mValueError\u001b[0m                                Traceback (most recent call last)",
      "Input \u001b[1;32mIn [11]\u001b[0m, in \u001b[0;36m<cell line: 3>\u001b[1;34m()\u001b[0m\n\u001b[0;32m      5\u001b[0m guess \u001b[38;5;241m=\u001b[39m \u001b[38;5;124m'\u001b[39m\u001b[38;5;124m'\u001b[39m\n\u001b[0;32m      6\u001b[0m \u001b[38;5;28;01mfor\u001b[39;00m i \u001b[38;5;129;01min\u001b[39;00m enc:\n\u001b[1;32m----> 7\u001b[0m     guess \u001b[38;5;241m+\u001b[39m\u001b[38;5;241m=\u001b[39m \u001b[38;5;28;43mchr\u001b[39;49m\u001b[43m(\u001b[49m\u001b[38;5;28;43mord\u001b[39;49m\u001b[43m(\u001b[49m\u001b[43mi\u001b[49m\u001b[43m)\u001b[49m\u001b[43m \u001b[49m\u001b[38;5;241;43m-\u001b[39;49m\u001b[43m \u001b[49m\u001b[43mnum\u001b[49m\u001b[43m)\u001b[49m\n\u001b[0;32m      8\u001b[0m \u001b[38;5;28mprint\u001b[39m(guess)\n",
      "\u001b[1;31mValueError\u001b[0m: chr() arg not in range(0x110000)"
     ]
    }
   ],
   "source": [
    "words = ['is','the','what','are','it','me','you']\n",
    "\n",
    "for num in range(-65,65,1):\n",
    "\n",
    "    guess = ''\n",
    "    for i in enc:\n",
    "        guess += chr(ord(i) - num)\n",
    "    print(guess)"
   ]
  },
  {
   "cell_type": "code",
   "execution_count": null,
   "id": "6ef2e6d3",
   "metadata": {},
   "outputs": [],
   "source": []
  }
 ],
 "metadata": {
  "kernelspec": {
   "display_name": "Python 3 (ipykernel)",
   "language": "python",
   "name": "python3"
  },
  "language_info": {
   "codemirror_mode": {
    "name": "ipython",
    "version": 3
   },
   "file_extension": ".py",
   "mimetype": "text/x-python",
   "name": "python",
   "nbconvert_exporter": "python",
   "pygments_lexer": "ipython3",
   "version": "3.10.2"
  }
 },
 "nbformat": 4,
 "nbformat_minor": 5
}
